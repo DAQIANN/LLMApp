{
 "cells": [
  {
   "cell_type": "code",
   "execution_count": 1,
   "metadata": {},
   "outputs": [],
   "source": [
    "import langchain\n",
    "import os"
   ]
  },
  {
   "cell_type": "code",
   "execution_count": 2,
   "metadata": {},
   "outputs": [
    {
     "name": "stdout",
     "output_type": "stream",
     "text": [
      "KeysView(environ({'MANPATH': '/opt/homebrew/share/man::', 'SHELL': '/bin/zsh', 'HOMEBREW_REPOSITORY': '/opt/homebrew', 'TMPDIR': '/var/folders/3m/w6_rxdf127z_5z7zgpvvh5v80000gn/T/', 'CONDA_SHLVL': '1', 'PYTHONUNBUFFERED': '1', 'CONDA_PROMPT_MODIFIER': '(base) ', 'ORIGINAL_XDG_CURRENT_DESKTOP': 'undefined', 'MallocNanoZone': '0', 'PYTHONIOENCODING': 'utf-8', 'USER': 'danielqian', 'COMMAND_MODE': 'unix2003', 'CONDA_EXE': '/Users/danielqian/anaconda3/bin/conda', 'SSH_AUTH_SOCK': '/private/tmp/com.apple.launchd.jFhnxXgFS9/Listeners', '__CF_USER_TEXT_ENCODING': '0x1F5:0x0:0x0', 'VSCODE_AMD_ENTRYPOINT': 'vs/workbench/api/node/extensionHostProcess', 'ELECTRON_RUN_AS_NODE': '1', '_CE_CONDA': '', 'PATH': '/Users/danielqian/anaconda3/bin:/Users/danielqian/anaconda3/condabin:/Library/Frameworks/Python.framework/Versions/3.9/bin:/opt/homebrew/bin:/opt/homebrew/sbin:/usr/local/bin:/System/Cryptexes/App/usr/bin:/usr/bin:/bin:/usr/sbin:/sbin:/usr/local/go/bin:/Library/Apple/usr/bin:/usr/local/mysql/bin:/usr/local/mysql/bin', 'CONDA_PREFIX': '/Users/danielqian/anaconda3', '__CFBundleIdentifier': 'com.microsoft.VSCode', 'PWD': '/', 'VSCODE_HANDLES_UNCAUGHT_ERRORS': 'true', 'XPC_FLAGS': '0x0', '_CE_M': '', 'XPC_SERVICE_NAME': '0', 'SHLVL': '1', 'HOME': '/Users/danielqian', 'VSCODE_NLS_CONFIG': '{\"locale\":\"en-us\",\"availableLanguages\":{},\"_languagePackSupport\":true}', 'HOMEBREW_PREFIX': '/opt/homebrew', 'CONDA_PYTHON_EXE': '/Users/danielqian/anaconda3/bin/python', 'PYTHONPATH': ':/Users/danielqian/Documents/auto_measurements/src', 'LOGNAME': 'danielqian', 'VSCODE_IPC_HOOK': '/Users/danielqian/Library/Application Support/Code/1.71.0-main.sock', 'VSCODE_CODE_CACHE_PATH': '/Users/danielqian/Library/Application Support/Code/CachedData/784b0177c56c607789f9638da7b6bf3230d47a8c', 'CONDA_DEFAULT_ENV': 'base', 'VSCODE_PID': '10563', 'INFOPATH': '/opt/homebrew/share/info:', 'HOMEBREW_CELLAR': '/opt/homebrew/Cellar', 'VSCODE_CWD': '/', '_': '/Users/danielqian/anaconda3/bin/python', 'LC_CTYPE': 'UTF-8', 'JUPYTER_PATH': '/Users/danielqian/.vscode/extensions/ms-toolsai.jupyter-2022.8.1002431955/temp/jupyter', 'PYDEVD_USE_FRAME_EVAL': 'NO', 'OLDPWD': '/', 'JPY_PARENT_PID': '13474', 'TERM': 'xterm-color', 'CLICOLOR': '1', 'FORCE_COLOR': '1', 'CLICOLOR_FORCE': '1', 'PAGER': 'cat', 'GIT_PAGER': 'cat', 'MPLBACKEND': 'module://matplotlib_inline.backend_inline', 'PYDEVD_IPYTHON_COMPATIBLE_DEBUGGING': '1'}))\n"
     ]
    }
   ],
   "source": [
    "print(os.environ.keys())"
   ]
  }
 ],
 "metadata": {
  "kernelspec": {
   "display_name": "Python 3.10.9 ('base')",
   "language": "python",
   "name": "python3"
  },
  "language_info": {
   "codemirror_mode": {
    "name": "ipython",
    "version": 3
   },
   "file_extension": ".py",
   "mimetype": "text/x-python",
   "name": "python",
   "nbconvert_exporter": "python",
   "pygments_lexer": "ipython3",
   "version": "3.10.9"
  },
  "orig_nbformat": 4,
  "vscode": {
   "interpreter": {
    "hash": "f7c31fab77c3cd1e9f3a0cb381c964276c59fad45f57b06737b006c59b7c8782"
   }
  }
 },
 "nbformat": 4,
 "nbformat_minor": 2
}
